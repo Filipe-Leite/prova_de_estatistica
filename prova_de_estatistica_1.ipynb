{
 "cells": [
  {
   "cell_type": "markdown",
   "id": "817fc411",
   "metadata": {},
   "source": [
    "# Problema"
   ]
  },
  {
   "cell_type": "markdown",
   "id": "5b21d9e6",
   "metadata": {},
   "source": [
    "1-\tEscolha aleatoriamente 50 números e utilizando a fórmula [ k=1+(3,32*logN)+ln N ] para o número de classes construa uma distribuição de frequência. OBS. COMO OS NÚMEROS SÃO ALEATÓRIOS NÃO PODERÁ TER PROVAS IGUAIS, CASO ISSO OCORRA AS DUAS SERÃO ZERADAS (2,0 pontos)\n",
    "\n",
    "2-\tCalcule a média aritmética da distribuição que você criou na questão 1; (2,0 pontos)\n",
    "\n",
    "3-\tCalcule a Mediana da distribuição criada acima (2,0 pontos)\n",
    "\n",
    "4-\tCalcule o 1º e 3º quartil da distribuição acima (2,0 pontos)\n",
    "\n",
    "5-\tCom os números que você escolheu construa um Boxplot.  (2,0 pontos)\n"
   ]
  },
  {
   "cell_type": "markdown",
   "id": "e896e4b3",
   "metadata": {},
   "source": [
    "# Import"
   ]
  },
  {
   "cell_type": "code",
   "execution_count": 1,
   "id": "7a7c8e1c",
   "metadata": {},
   "outputs": [],
   "source": [
    "import scipy.stats              #importando a biblioteca scipy\n",
    "import math                     #importando a biblioteca math\n",
    "import random                   #importando a biblioteca random\n",
    "import numpy  as np             #importanto a biblioteca numpy\n",
    "import pandas as pd             #importando a biblioteca pandas\n",
    "import matplotlib.pyplot as plt #importando a biblioteca matplotlib"
   ]
  },
  {
   "cell_type": "markdown",
   "id": "d1042ecb",
   "metadata": {},
   "source": [
    "## 1.1 - Escolhendo 50 números aleatórios entre 1 e 500"
   ]
  },
  {
   "cell_type": "code",
   "execution_count": 49,
   "id": "d88e0f0f",
   "metadata": {},
   "outputs": [],
   "source": [
    "amostra = np.random.randint(1,500,(1,50))"
   ]
  },
  {
   "cell_type": "code",
   "execution_count": 50,
   "id": "74807eb0",
   "metadata": {},
   "outputs": [],
   "source": [
    "amostra = amostra[0]"
   ]
  },
  {
   "cell_type": "code",
   "execution_count": 51,
   "id": "808c2c9f",
   "metadata": {},
   "outputs": [],
   "source": [
    "amostra = amostra.tolist()"
   ]
  },
  {
   "cell_type": "code",
   "execution_count": 52,
   "id": "e49bbe50",
   "metadata": {},
   "outputs": [],
   "source": [
    "amostra = sorted(amostra)"
   ]
  },
  {
   "cell_type": "markdown",
   "id": "fa1f1972",
   "metadata": {},
   "source": [
    "## 1.2 - Distribuição de frenquência"
   ]
  },
  {
   "cell_type": "code",
   "execution_count": 5,
   "id": "8ef57d68",
   "metadata": {},
   "outputs": [],
   "source": [
    "df = pd.DataFrame(np.array(amostra).reshape(50,1), columns = list(\"A\")) # Transformando lista em pandas dataframe"
   ]
  },
  {
   "cell_type": "code",
   "execution_count": 6,
   "id": "f3049484",
   "metadata": {},
   "outputs": [
    {
     "data": {
      "text/html": [
       "<div>\n",
       "<style scoped>\n",
       "    .dataframe tbody tr th:only-of-type {\n",
       "        vertical-align: middle;\n",
       "    }\n",
       "\n",
       "    .dataframe tbody tr th {\n",
       "        vertical-align: top;\n",
       "    }\n",
       "\n",
       "    .dataframe thead th {\n",
       "        text-align: right;\n",
       "    }\n",
       "</style>\n",
       "<table border=\"1\" class=\"dataframe\">\n",
       "  <thead>\n",
       "    <tr style=\"text-align: right;\">\n",
       "      <th></th>\n",
       "      <th>A</th>\n",
       "    </tr>\n",
       "  </thead>\n",
       "  <tbody>\n",
       "    <tr>\n",
       "      <th>0</th>\n",
       "      <td>207</td>\n",
       "    </tr>\n",
       "    <tr>\n",
       "      <th>1</th>\n",
       "      <td>108</td>\n",
       "    </tr>\n",
       "    <tr>\n",
       "      <th>2</th>\n",
       "      <td>231</td>\n",
       "    </tr>\n",
       "    <tr>\n",
       "      <th>3</th>\n",
       "      <td>125</td>\n",
       "    </tr>\n",
       "    <tr>\n",
       "      <th>4</th>\n",
       "      <td>219</td>\n",
       "    </tr>\n",
       "  </tbody>\n",
       "</table>\n",
       "</div>"
      ],
      "text/plain": [
       "     A\n",
       "0  207\n",
       "1  108\n",
       "2  231\n",
       "3  125\n",
       "4  219"
      ]
     },
     "execution_count": 6,
     "metadata": {},
     "output_type": "execute_result"
    }
   ],
   "source": [
    "df.head()                    # visualizando os 5 primeiros dados"
   ]
  },
  {
   "cell_type": "code",
   "execution_count": 7,
   "id": "2cd5d60d",
   "metadata": {},
   "outputs": [],
   "source": [
    "df = df.sort_values(by = \"A\", ascending=True) # organizando os elementos da coluna única \"A\""
   ]
  },
  {
   "cell_type": "code",
   "execution_count": 8,
   "id": "d52db568",
   "metadata": {},
   "outputs": [],
   "source": [
    "df['fi'] = '-'"
   ]
  },
  {
   "cell_type": "markdown",
   "id": "b0167b17",
   "metadata": {},
   "source": [
    "## 1.3 - Número de classes"
   ]
  },
  {
   "cell_type": "code",
   "execution_count": 9,
   "id": "bd280b3d",
   "metadata": {},
   "outputs": [],
   "source": [
    "# fórmula k = 1+(3,32*logN)+ln N\n",
    "\n",
    "\n",
    "k = 1+(3.32*math.log10(50)) + np.log(50)\n"
   ]
  },
  {
   "cell_type": "code",
   "execution_count": 10,
   "id": "59a03ee7",
   "metadata": {},
   "outputs": [
    {
     "data": {
      "text/plain": [
       "10.552603419823727"
      ]
     },
     "execution_count": 10,
     "metadata": {},
     "output_type": "execute_result"
    }
   ],
   "source": [
    "k"
   ]
  },
  {
   "cell_type": "code",
   "execution_count": 11,
   "id": "26b94dd4",
   "metadata": {},
   "outputs": [],
   "source": [
    "k = round(k) #arredondando"
   ]
  },
  {
   "cell_type": "code",
   "execution_count": 12,
   "id": "4801725e",
   "metadata": {},
   "outputs": [
    {
     "data": {
      "text/plain": [
       "11"
      ]
     },
     "execution_count": 12,
     "metadata": {},
     "output_type": "execute_result"
    }
   ],
   "source": [
    "k"
   ]
  },
  {
   "cell_type": "markdown",
   "id": "7ee3849d",
   "metadata": {},
   "source": [
    "## 1.4 - Distribuição de frequências"
   ]
  },
  {
   "cell_type": "code",
   "execution_count": 13,
   "id": "578190ee",
   "metadata": {},
   "outputs": [],
   "source": [
    "# Amplitude dos dados = Valor maior dos registros - menor valor\n",
    "at = df['A'].max() - df['A'].min()"
   ]
  },
  {
   "cell_type": "code",
   "execution_count": 14,
   "id": "a9f9802b",
   "metadata": {},
   "outputs": [
    {
     "data": {
      "text/plain": [
       "472"
      ]
     },
     "execution_count": 14,
     "metadata": {},
     "output_type": "execute_result"
    }
   ],
   "source": [
    "at"
   ]
  },
  {
   "cell_type": "code",
   "execution_count": 15,
   "id": "15132e36",
   "metadata": {},
   "outputs": [],
   "source": [
    "# Amplitude dos intervalos\n",
    "\n",
    "ai = at/k"
   ]
  },
  {
   "cell_type": "code",
   "execution_count": 16,
   "id": "b2dd3438",
   "metadata": {},
   "outputs": [
    {
     "data": {
      "text/plain": [
       "43"
      ]
     },
     "execution_count": 16,
     "metadata": {},
     "output_type": "execute_result"
    }
   ],
   "source": [
    "ai = math.ceil(ai) # Arredondamento para cima\n",
    "ai"
   ]
  },
  {
   "cell_type": "code",
   "execution_count": 28,
   "id": "45e95591",
   "metadata": {},
   "outputs": [],
   "source": [
    "amplitudeintervalostxt  = []\n",
    "# Menor valor da série\n",
    "menor = round(df['A'].min(),1)\n",
    "\n",
    "# Menor valor somado a amplitude\n",
    "menor_amp = round(menor+ai,1)\n",
    "\n",
    "valor = menor\n",
    "\n",
    "while valor < df['A'].max():\n",
    "    amplitudeintervalostxt.append('{} - {}'.format(round(valor,1),round(valor+ai,1)))\n",
    "    valor = valor + ai"
   ]
  },
  {
   "cell_type": "code",
   "execution_count": 29,
   "id": "2bee3a73",
   "metadata": {},
   "outputs": [
    {
     "data": {
      "text/plain": [
       "['21 - 64',\n",
       " '64 - 107',\n",
       " '107 - 150',\n",
       " '150 - 193',\n",
       " '193 - 236',\n",
       " '236 - 279',\n",
       " '279 - 322',\n",
       " '322 - 365',\n",
       " '365 - 408',\n",
       " '408 - 451',\n",
       " '451 - 494']"
      ]
     },
     "execution_count": 29,
     "metadata": {},
     "output_type": "execute_result"
    }
   ],
   "source": [
    "amplitudeintervalostxt"
   ]
  },
  {
   "cell_type": "code",
   "execution_count": 34,
   "id": "cd9fa50d",
   "metadata": {},
   "outputs": [],
   "source": [
    "amplitudeintervaloslist = []\n",
    "intervalo       = []\n",
    "\n",
    "primeirotermo = round(df['A'].min(),1)\n",
    "segundotermo  = primeirotermo + ai\n",
    "intervalo.append(primeirotermo)\n",
    "intervalo.append(segundotermo)\n",
    "amplitudeintervaloslist.append(intervalo)\n",
    "\n",
    "for i in range(len(amplitudeintervalostxt) - 1):\n",
    "    amplitudeintervaloslist.append([])\n",
    "    amplitudeintervaloslist[i+1].append(amplitudeintervaloslist[i][-1])\n",
    "    amplitudeintervaloslist[i+1].append(amplitudeintervaloslist[i][-1]+ai)\n"
   ]
  },
  {
   "cell_type": "code",
   "execution_count": 35,
   "id": "e1c243a3",
   "metadata": {},
   "outputs": [
    {
     "data": {
      "text/plain": [
       "[[21, 64],\n",
       " [64, 107],\n",
       " [107, 150],\n",
       " [150, 193],\n",
       " [193, 236],\n",
       " [236, 279],\n",
       " [279, 322],\n",
       " [322, 365],\n",
       " [365, 408],\n",
       " [408, 451],\n",
       " [451, 494]]"
      ]
     },
     "execution_count": 35,
     "metadata": {},
     "output_type": "execute_result"
    }
   ],
   "source": [
    "amplitudeintervaloslist"
   ]
  },
  {
   "cell_type": "code",
   "execution_count": 30,
   "id": "37bf444f",
   "metadata": {},
   "outputs": [],
   "source": [
    "amplitudeintervalostxt = np.array(amplitudeintervalostxt)"
   ]
  },
  {
   "cell_type": "code",
   "execution_count": 31,
   "id": "f2a40739",
   "metadata": {},
   "outputs": [],
   "source": [
    "df2 = pd.DataFrame(amplitudeintervalostxt, columns =['amplitude_intervalos'])"
   ]
  },
  {
   "cell_type": "code",
   "execution_count": 32,
   "id": "f6ff4458",
   "metadata": {},
   "outputs": [
    {
     "data": {
      "text/html": [
       "<div>\n",
       "<style scoped>\n",
       "    .dataframe tbody tr th:only-of-type {\n",
       "        vertical-align: middle;\n",
       "    }\n",
       "\n",
       "    .dataframe tbody tr th {\n",
       "        vertical-align: top;\n",
       "    }\n",
       "\n",
       "    .dataframe thead th {\n",
       "        text-align: right;\n",
       "    }\n",
       "</style>\n",
       "<table border=\"1\" class=\"dataframe\">\n",
       "  <thead>\n",
       "    <tr style=\"text-align: right;\">\n",
       "      <th></th>\n",
       "      <th>amplitude_intervalos</th>\n",
       "    </tr>\n",
       "  </thead>\n",
       "  <tbody>\n",
       "    <tr>\n",
       "      <th>0</th>\n",
       "      <td>21 - 64</td>\n",
       "    </tr>\n",
       "    <tr>\n",
       "      <th>1</th>\n",
       "      <td>64 - 107</td>\n",
       "    </tr>\n",
       "    <tr>\n",
       "      <th>2</th>\n",
       "      <td>107 - 150</td>\n",
       "    </tr>\n",
       "    <tr>\n",
       "      <th>3</th>\n",
       "      <td>150 - 193</td>\n",
       "    </tr>\n",
       "    <tr>\n",
       "      <th>4</th>\n",
       "      <td>193 - 236</td>\n",
       "    </tr>\n",
       "    <tr>\n",
       "      <th>5</th>\n",
       "      <td>236 - 279</td>\n",
       "    </tr>\n",
       "    <tr>\n",
       "      <th>6</th>\n",
       "      <td>279 - 322</td>\n",
       "    </tr>\n",
       "    <tr>\n",
       "      <th>7</th>\n",
       "      <td>322 - 365</td>\n",
       "    </tr>\n",
       "    <tr>\n",
       "      <th>8</th>\n",
       "      <td>365 - 408</td>\n",
       "    </tr>\n",
       "    <tr>\n",
       "      <th>9</th>\n",
       "      <td>408 - 451</td>\n",
       "    </tr>\n",
       "    <tr>\n",
       "      <th>10</th>\n",
       "      <td>451 - 494</td>\n",
       "    </tr>\n",
       "  </tbody>\n",
       "</table>\n",
       "</div>"
      ],
      "text/plain": [
       "   amplitude_intervalos\n",
       "0               21 - 64\n",
       "1              64 - 107\n",
       "2             107 - 150\n",
       "3             150 - 193\n",
       "4             193 - 236\n",
       "5             236 - 279\n",
       "6             279 - 322\n",
       "7             322 - 365\n",
       "8             365 - 408\n",
       "9             408 - 451\n",
       "10            451 - 494"
      ]
     },
     "execution_count": 32,
     "metadata": {},
     "output_type": "execute_result"
    }
   ],
   "source": [
    "df2 "
   ]
  },
  {
   "cell_type": "code",
   "execution_count": 54,
   "id": "3ab1127f",
   "metadata": {},
   "outputs": [],
   "source": [
    "provasnointervalolist = [[]]\n",
    "copiaamostra = amostra[:]\n",
    "\n",
    "end = False\n",
    "\n",
    "for j in range(len(amplitudeintervaloslist)):\n",
    "    while copiaamostra[0] < amplitudeintervaloslist[j][-1] and end == False:\n",
    "        provasnointervalolist[j].append(copiaamostra[0])\n",
    "        if len(copiaamostra) > 1:\n",
    "            del copiaamostra[0]\n",
    "        elif len(copiaamostra) == 1:\n",
    "            end = True\n",
    "    else:\n",
    "        provasnointervalolist.append([])\n",
    "        if end == True:\n",
    "            del provasnointervalolist[-1]"
   ]
  },
  {
   "cell_type": "code",
   "execution_count": 55,
   "id": "0fea2c4b",
   "metadata": {},
   "outputs": [
    {
     "data": {
      "text/plain": [
       "[[17, 17, 25, 34, 57],\n",
       " [71, 84, 90, 100, 100],\n",
       " [115, 116, 120, 124, 130, 142],\n",
       " [153, 155, 160, 172],\n",
       " [197, 216, 221],\n",
       " [252, 265, 274],\n",
       " [282, 284, 295, 295, 302, 303],\n",
       " [326, 340, 350, 359],\n",
       " [369, 372, 378, 389, 399],\n",
       " [435, 439, 444, 447],\n",
       " [453, 460, 469, 473, 475]]"
      ]
     },
     "execution_count": 55,
     "metadata": {},
     "output_type": "execute_result"
    }
   ],
   "source": [
    "provasnointervalolist"
   ]
  },
  {
   "cell_type": "code",
   "execution_count": 60,
   "id": "41302d86",
   "metadata": {},
   "outputs": [],
   "source": [
    "df2['provas_intervalo'] = provasnointervalolist"
   ]
  },
  {
   "cell_type": "code",
   "execution_count": 61,
   "id": "774608c1",
   "metadata": {},
   "outputs": [
    {
     "data": {
      "text/html": [
       "<div>\n",
       "<style scoped>\n",
       "    .dataframe tbody tr th:only-of-type {\n",
       "        vertical-align: middle;\n",
       "    }\n",
       "\n",
       "    .dataframe tbody tr th {\n",
       "        vertical-align: top;\n",
       "    }\n",
       "\n",
       "    .dataframe thead th {\n",
       "        text-align: right;\n",
       "    }\n",
       "</style>\n",
       "<table border=\"1\" class=\"dataframe\">\n",
       "  <thead>\n",
       "    <tr style=\"text-align: right;\">\n",
       "      <th></th>\n",
       "      <th>amplitude_intervalos</th>\n",
       "      <th>provas_intervalo</th>\n",
       "    </tr>\n",
       "  </thead>\n",
       "  <tbody>\n",
       "    <tr>\n",
       "      <th>0</th>\n",
       "      <td>21 - 64</td>\n",
       "      <td>[17, 17, 25, 34, 57]</td>\n",
       "    </tr>\n",
       "    <tr>\n",
       "      <th>1</th>\n",
       "      <td>64 - 107</td>\n",
       "      <td>[71, 84, 90, 100, 100]</td>\n",
       "    </tr>\n",
       "    <tr>\n",
       "      <th>2</th>\n",
       "      <td>107 - 150</td>\n",
       "      <td>[115, 116, 120, 124, 130, 142]</td>\n",
       "    </tr>\n",
       "    <tr>\n",
       "      <th>3</th>\n",
       "      <td>150 - 193</td>\n",
       "      <td>[153, 155, 160, 172]</td>\n",
       "    </tr>\n",
       "    <tr>\n",
       "      <th>4</th>\n",
       "      <td>193 - 236</td>\n",
       "      <td>[197, 216, 221]</td>\n",
       "    </tr>\n",
       "    <tr>\n",
       "      <th>5</th>\n",
       "      <td>236 - 279</td>\n",
       "      <td>[252, 265, 274]</td>\n",
       "    </tr>\n",
       "    <tr>\n",
       "      <th>6</th>\n",
       "      <td>279 - 322</td>\n",
       "      <td>[282, 284, 295, 295, 302, 303]</td>\n",
       "    </tr>\n",
       "    <tr>\n",
       "      <th>7</th>\n",
       "      <td>322 - 365</td>\n",
       "      <td>[326, 340, 350, 359]</td>\n",
       "    </tr>\n",
       "    <tr>\n",
       "      <th>8</th>\n",
       "      <td>365 - 408</td>\n",
       "      <td>[369, 372, 378, 389, 399]</td>\n",
       "    </tr>\n",
       "    <tr>\n",
       "      <th>9</th>\n",
       "      <td>408 - 451</td>\n",
       "      <td>[435, 439, 444, 447]</td>\n",
       "    </tr>\n",
       "    <tr>\n",
       "      <th>10</th>\n",
       "      <td>451 - 494</td>\n",
       "      <td>[453, 460, 469, 473, 475]</td>\n",
       "    </tr>\n",
       "  </tbody>\n",
       "</table>\n",
       "</div>"
      ],
      "text/plain": [
       "   amplitude_intervalos                provas_intervalo\n",
       "0               21 - 64            [17, 17, 25, 34, 57]\n",
       "1              64 - 107          [71, 84, 90, 100, 100]\n",
       "2             107 - 150  [115, 116, 120, 124, 130, 142]\n",
       "3             150 - 193            [153, 155, 160, 172]\n",
       "4             193 - 236                 [197, 216, 221]\n",
       "5             236 - 279                 [252, 265, 274]\n",
       "6             279 - 322  [282, 284, 295, 295, 302, 303]\n",
       "7             322 - 365            [326, 340, 350, 359]\n",
       "8             365 - 408       [369, 372, 378, 389, 399]\n",
       "9             408 - 451            [435, 439, 444, 447]\n",
       "10            451 - 494       [453, 460, 469, 473, 475]"
      ]
     },
     "execution_count": 61,
     "metadata": {},
     "output_type": "execute_result"
    }
   ],
   "source": [
    "df2"
   ]
  },
  {
   "cell_type": "code",
   "execution_count": null,
   "id": "08583366",
   "metadata": {},
   "outputs": [],
   "source": []
  }
 ],
 "metadata": {
  "kernelspec": {
   "display_name": "Python 3",
   "language": "python",
   "name": "python3"
  },
  "language_info": {
   "codemirror_mode": {
    "name": "ipython",
    "version": 3
   },
   "file_extension": ".py",
   "mimetype": "text/x-python",
   "name": "python",
   "nbconvert_exporter": "python",
   "pygments_lexer": "ipython3",
   "version": "3.8.8"
  }
 },
 "nbformat": 4,
 "nbformat_minor": 5
}
